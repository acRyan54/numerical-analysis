{
 "cells": [
  {
   "cell_type": "code",
   "execution_count": 2,
   "metadata": {},
   "outputs": [
    {
     "name": "stdout",
     "output_type": "stream",
     "text": [
      "ConditionSet(x, Eq(x*exp(2*x) - 2, 0), Complexes)\n",
      "[{x: LambertW(1)}]\n"
     ]
    },
    {
     "data": {
      "text/latex": [
       "$\\displaystyle \\frac{\\log{\\left(10 \\right)}}{\\log{\\left(2 \\right)}}$"
      ],
      "text/plain": [
       "log(10)/log(2)"
      ]
     },
     "execution_count": 2,
     "metadata": {},
     "output_type": "execute_result"
    }
   ],
   "source": [
    "from sympy import *\n",
    "x = symbols('x')\n",
    "print(solveset(x*exp(2*x) - 2, x))\n",
    "print(solve(x*exp(x) - 1, x, dict=True))\n",
    "log(10)/log(2)"
   ]
  },
  {
   "cell_type": "code",
   "execution_count": 3,
   "metadata": {},
   "outputs": [
    {
     "data": {
      "text/latex": [
       "$\\displaystyle \\lambda^{4} - 11 \\lambda^{3} + 29 \\lambda^{2} + 35 \\lambda - 150$"
      ],
      "text/plain": [
       "lambda**4 - 11*lambda**3 + 29*lambda**2 + 35*lambda - 150"
      ]
     },
     "execution_count": 3,
     "metadata": {},
     "output_type": "execute_result"
    }
   ],
   "source": [
    "x = symbols('x')\n",
    "M = Matrix([[3, -2,  4, -2], [5,  3, -3, -2], [5, -2,  2, -2], [5, -2, -3,  3]])\n",
    "p = M.charpoly()\n",
    "p.as_expr()"
   ]
  },
  {
   "cell_type": "code",
   "execution_count": 5,
   "metadata": {},
   "outputs": [
    {
     "data": {
      "text/plain": [
       "\"Add(Pow(Symbol('x'), Integer(3)), Mul(Symbol('x'), exp(Pow(Symbol('x'), Integer(2)))), sin(Symbol('x')))\""
      ]
     },
     "execution_count": 5,
     "metadata": {},
     "output_type": "execute_result"
    }
   ],
   "source": [
    "expr = sin(x) + exp(x**2) * x + x**3\n",
    "srepr(expr)"
   ]
  },
  {
   "cell_type": "code",
   "execution_count": 9,
   "metadata": {},
   "outputs": [
    {
     "data": {
      "text/plain": [
       "array([[ 3.        ,  0.41666667, -0.125     , -0.04166667],\n",
       "       [ 3.        , -0.58333333, -0.375     , -0.04166667],\n",
       "       [ 2.        , -1.45833333, -0.5       , -0.04166667],\n",
       "       [ 0.        ,  0.        , -0.625     ,  0.        ]])"
      ]
     },
     "execution_count": 9,
     "metadata": {},
     "output_type": "execute_result"
    }
   ],
   "source": [
    "import numpy as np\n",
    "import sympy as sp\n",
    "\n",
    "x = sp.symbols('x')\n",
    "\n",
    "n = 4\n",
    "X = [1, 3, 4, 5]\n",
    "Y = [3, 3, 2, 0]\n",
    "case = 'e'\n",
    "\n",
    "\n",
    "S = []\n",
    "A = np.zeros((n, n)) #初始化\n",
    "r = np.zeros((n, 1))\n",
    "dx, dy = [], []\n",
    "for i in range(n-1):\n",
    "    dx.append(X[i+1] - X[i])\n",
    "    dy.append(Y[i+1] - Y[i])\n",
    "for i in range(1, n-1):\n",
    "    A[i, i-1:i+2] = [dx[i-1], 2*(dx[i-1] + dx[i]), dx[i]]\n",
    "    r[i, 0] = 3 * (dy[i]/dx[i] - dy[i-1]/dx[i-1])\n",
    "\n",
    "#自然a\n",
    "if case == 'a':\n",
    "    A[0, 0], A[n-1, n-1] = 1, 1\n",
    "#曲率调整b\n",
    "if case == 'b':\n",
    "    A[0, 0], A[n-1, n-1] = 2, 2\n",
    "    r[0, 0], r[n-1, 0] = v1, vn\n",
    "#钳制c\n",
    "if case == 'c':\n",
    "    A[0, 0:2] = [2*dx[0], dx[0]]\n",
    "    r[0, 0] = 3*(dy[0]/dx[0] - v1)\n",
    "    A[n-1, n-2:] = [dx[n-2], 2*dx[n-2]]\n",
    "    r[n-1, 0] = 3*(vn - dy[n-2]/dx[n-2])\n",
    "#抛物线d\n",
    "if case == 'd':\n",
    "    A[0, 0:2], A[n-1, n-2:] = [1, -1], [1, -1]\n",
    "#非纽结e\n",
    "if case == 'e':\n",
    "    A[0, 0:3] = [dx[1], -dx[0]-dx[1], dx[0]]\n",
    "    A[n-1, n-3:] = [dx[n-2], -dx[n-3]-dx[n-2], dx[n-3]]\n",
    "\n",
    "coeff = np.zeros((n, 4))\n",
    "coeff[..., 0] = Y #a\n",
    "coeff[..., 2] = np.linalg.solve(A, r).flatten() #c\n",
    "for i in range(n-1):\n",
    "    coeff[i, 1] = dy[i]/dx[i] - dx[i]/3 * (coeff[i+1, 2] + 2*coeff[i, 2]) #b\n",
    "    coeff[i, 3] = (coeff[i+1, 2] - coeff[i, 2])/(3*dx[i]) #d\n",
    "# coeff = coeff[:-1, ...]\n",
    "for i in range(n-1):\n",
    "    S.append(coeff[i][0] + coeff[i][1]*(x-X[i]) + coeff[i][2]*(x-X[i])**2 + coeff[i][3]*(x-X[i])**3)\n",
    "\n",
    "coeff"
   ]
  },
  {
   "cell_type": "code",
   "execution_count": 12,
   "metadata": {},
   "outputs": [
    {
     "data": {
      "text/plain": [
       "1.4583333333333333"
      ]
     },
     "execution_count": 12,
     "metadata": {},
     "output_type": "execute_result"
    }
   ],
   "source": [
    "35/24"
   ]
  }
 ],
 "metadata": {
  "interpreter": {
   "hash": "83dcda9c6f21f72eb91322f25bd90dcfc44fcd27b2ed6d45c45385eb1dc16ae7"
  },
  "kernelspec": {
   "display_name": "Python 3.10.2 64-bit",
   "language": "python",
   "name": "python3"
  },
  "language_info": {
   "codemirror_mode": {
    "name": "ipython",
    "version": 3
   },
   "file_extension": ".py",
   "mimetype": "text/x-python",
   "name": "python",
   "nbconvert_exporter": "python",
   "pygments_lexer": "ipython3",
   "version": "3.10.4"
  },
  "orig_nbformat": 4
 },
 "nbformat": 4,
 "nbformat_minor": 2
}
