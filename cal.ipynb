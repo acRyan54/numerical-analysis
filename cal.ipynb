{
 "cells": [
  {
   "cell_type": "code",
   "execution_count": 27,
   "metadata": {},
   "outputs": [
    {
     "ename": "TypeError",
     "evalue": "cannot add <class 'sympy.matrices.dense.MutableDenseMatrix'> and <class 'sympy.core.numbers.NaN'>",
     "output_type": "error",
     "traceback": [
      "\u001b[1;31m---------------------------------------------------------------------------\u001b[0m",
      "\u001b[1;31mTypeError\u001b[0m                                 Traceback (most recent call last)",
      "Input \u001b[1;32mIn [27]\u001b[0m, in \u001b[0;36m<cell line: 14>\u001b[1;34m()\u001b[0m\n\u001b[0;32m     11\u001b[0m d2 \u001b[38;5;241m=\u001b[39m r1 \u001b[38;5;241m+\u001b[39m b1 \u001b[38;5;241m*\u001b[39m d1\n\u001b[0;32m     13\u001b[0m a2 \u001b[38;5;241m=\u001b[39m (r1\u001b[38;5;241m.\u001b[39mT \u001b[38;5;241m*\u001b[39m r1)[\u001b[38;5;241m0\u001b[39m] \u001b[38;5;241m/\u001b[39m (d2\u001b[38;5;241m.\u001b[39mT \u001b[38;5;241m*\u001b[39m A \u001b[38;5;241m*\u001b[39m d2)[\u001b[38;5;241m0\u001b[39m]\n\u001b[1;32m---> 14\u001b[0m x2 \u001b[38;5;241m=\u001b[39m \u001b[43mx1\u001b[49m\u001b[43m \u001b[49m\u001b[38;5;241;43m+\u001b[39;49m\u001b[43m \u001b[49m\u001b[43ma2\u001b[49m\u001b[43m \u001b[49m\u001b[38;5;241;43m*\u001b[39;49m\u001b[43m \u001b[49m\u001b[43md2\u001b[49m\n\u001b[0;32m     15\u001b[0m r2 \u001b[38;5;241m=\u001b[39m r1 \u001b[38;5;241m-\u001b[39m a2 \u001b[38;5;241m*\u001b[39m A \u001b[38;5;241m*\u001b[39m d2\n\u001b[0;32m     16\u001b[0m b2 \u001b[38;5;241m=\u001b[39m (r2\u001b[38;5;241m.\u001b[39mT \u001b[38;5;241m*\u001b[39m r2)[\u001b[38;5;241m0\u001b[39m] \u001b[38;5;241m/\u001b[39m (r1\u001b[38;5;241m.\u001b[39mT \u001b[38;5;241m*\u001b[39m r1)[\u001b[38;5;241m0\u001b[39m]\n",
      "File \u001b[1;32m~\\AppData\\Local\\Programs\\Python\\Python310\\lib\\site-packages\\sympy\\core\\decorators.py:106\u001b[0m, in \u001b[0;36mcall_highest_priority.<locals>.priority_decorator.<locals>.binary_op_wrapper\u001b[1;34m(self, other)\u001b[0m\n\u001b[0;32m    104\u001b[0m         \u001b[38;5;28;01mif\u001b[39;00m f \u001b[38;5;129;01mis\u001b[39;00m \u001b[38;5;129;01mnot\u001b[39;00m \u001b[38;5;28;01mNone\u001b[39;00m:\n\u001b[0;32m    105\u001b[0m             \u001b[38;5;28;01mreturn\u001b[39;00m f(\u001b[38;5;28mself\u001b[39m)\n\u001b[1;32m--> 106\u001b[0m \u001b[38;5;28;01mreturn\u001b[39;00m \u001b[43mfunc\u001b[49m\u001b[43m(\u001b[49m\u001b[38;5;28;43mself\u001b[39;49m\u001b[43m,\u001b[49m\u001b[43m \u001b[49m\u001b[43mother\u001b[49m\u001b[43m)\u001b[49m\n",
      "File \u001b[1;32m~\\AppData\\Local\\Programs\\Python\\Python310\\lib\\site-packages\\sympy\\matrices\\common.py:2728\u001b[0m, in \u001b[0;36mMatrixArithmetic.__add__\u001b[1;34m(self, other)\u001b[0m\n\u001b[0;32m   2725\u001b[0m \u001b[38;5;28;01mif\u001b[39;00m \u001b[38;5;28mgetattr\u001b[39m(other, \u001b[38;5;124m'\u001b[39m\u001b[38;5;124mis_MatrixLike\u001b[39m\u001b[38;5;124m'\u001b[39m, \u001b[38;5;28;01mFalse\u001b[39;00m):\n\u001b[0;32m   2726\u001b[0m     \u001b[38;5;28;01mreturn\u001b[39;00m MatrixArithmetic\u001b[38;5;241m.\u001b[39m_eval_add(\u001b[38;5;28mself\u001b[39m, other)\n\u001b[1;32m-> 2728\u001b[0m \u001b[38;5;28;01mraise\u001b[39;00m \u001b[38;5;167;01mTypeError\u001b[39;00m(\u001b[38;5;124m'\u001b[39m\u001b[38;5;124mcannot add \u001b[39m\u001b[38;5;132;01m%s\u001b[39;00m\u001b[38;5;124m and \u001b[39m\u001b[38;5;132;01m%s\u001b[39;00m\u001b[38;5;124m'\u001b[39m \u001b[38;5;241m%\u001b[39m (\u001b[38;5;28mtype\u001b[39m(\u001b[38;5;28mself\u001b[39m), \u001b[38;5;28mtype\u001b[39m(other)))\n",
      "\u001b[1;31mTypeError\u001b[0m: cannot add <class 'sympy.matrices.dense.MutableDenseMatrix'> and <class 'sympy.core.numbers.NaN'>"
     ]
    }
   ],
   "source": [
    "from sympy import *\n",
    "A = Matrix([[4, 1], [1, 4]])\n",
    "x0 = Matrix([[0], [0]])\n",
    "r0 = Matrix([[-3], [3]])\n",
    "d1 = r0\n",
    "\n",
    "a1 = (r0.T * r0)[0] / (d1.T * A * d1)[0]\n",
    "x1 = x0 + a1 * d1\n",
    "r1 = r0 - a1 * A * d1\n",
    "b1 = (r1.T * r1)[0] / (r0.T * r0)[0]\n",
    "d2 = r1 + b1 * d1\n",
    "\n",
    "a2 = (r1.T * r1)[0] / (d2.T * A * d2)[0]\n",
    "x2 = x1 + a2 * d2\n",
    "r2 = r1 - a2 * A * d2\n",
    "b2 = (r2.T * r2)[0] / (r1.T * r1)[0]\n",
    "d3 = r2 + b2 * d2"
   ]
  },
  {
   "cell_type": "code",
   "execution_count": 28,
   "metadata": {},
   "outputs": [
    {
     "name": "stdout",
     "output_type": "stream",
     "text": [
      "1/3 Matrix([[-1], [1]]) Matrix([[0], [0]]) 0 Matrix([[0], [0]])\n"
     ]
    }
   ],
   "source": [
    "print(a1, x1, r1, b1, d2)"
   ]
  },
  {
   "cell_type": "code",
   "execution_count": 29,
   "metadata": {},
   "outputs": [
    {
     "name": "stdout",
     "output_type": "stream",
     "text": [
      "nan Matrix([[3], [-1]]) Matrix([[0], [0]]) 0 Matrix([[0], [0]])\n"
     ]
    }
   ],
   "source": [
    "print(a2, x2, r2, b2, d2)"
   ]
  },
  {
   "cell_type": "code",
   "execution_count": 20,
   "metadata": {},
   "outputs": [
    {
     "name": "stdout",
     "output_type": "stream",
     "text": [
      "\\left[\\begin{matrix}\\frac{2}{3} & 0 & \\frac{2}{3} & \\frac{1}{3}\\\\\\frac{\\sqrt{2}}{3} & - \\frac{\\sqrt{2}}{6} & - \\frac{\\sqrt{2}}{2} & \\frac{\\sqrt{2}}{3}\\\\\\frac{\\sqrt{3}}{3} & \\frac{\\sqrt{3}}{9} & - \\frac{\\sqrt{3}}{9} & - \\frac{4 \\sqrt{3}}{9}\\\\0 & \\frac{7 \\sqrt{6}}{18} & - \\frac{\\sqrt{6}}{18} & \\frac{\\sqrt{6}}{9}\\end{matrix}\\right]\n"
     ]
    }
   ],
   "source": [
    "from sympy import *\n",
    "A = Matrix([[2, 4, 1, 0], [0, -1, 0, 1], [2, -1, 0, 0], [1, 3, 0 ,0]])\n",
    "Q, R = A.QRdecomposition()\n",
    "print(latex(Q.T))"
   ]
  },
  {
   "cell_type": "code",
   "execution_count": 19,
   "metadata": {},
   "outputs": [
    {
     "name": "stdout",
     "output_type": "stream",
     "text": [
      "\\left[\\begin{matrix}3 & 3 & \\frac{2}{3} & 0\\\\0 & 3 \\sqrt{2} & \\frac{\\sqrt{2}}{3} & - \\frac{\\sqrt{2}}{6}\\\\0 & 0 & \\frac{\\sqrt{3}}{3} & \\frac{\\sqrt{3}}{9}\\\\0 & 0 & 0 & \\frac{7 \\sqrt{6}}{18}\\end{matrix}\\right]\n"
     ]
    }
   ],
   "source": [
    "print(latex(R))\n"
   ]
  },
  {
   "cell_type": "code",
   "execution_count": 14,
   "metadata": {},
   "outputs": [
    {
     "data": {
      "text/latex": [
       "$\\displaystyle \\left[\\begin{matrix}1\\\\- \\frac{3 \\sqrt{2}}{2}\\\\- \\frac{2 \\sqrt{3}}{3}\\\\\\frac{7 \\sqrt{6}}{6}\\end{matrix}\\right]$"
      ],
      "text/plain": [
       "Matrix([\n",
       "[           1],\n",
       "[-3*sqrt(2)/2],\n",
       "[-2*sqrt(3)/3],\n",
       "[ 7*sqrt(6)/6]])"
      ]
     },
     "execution_count": 14,
     "metadata": {},
     "output_type": "execute_result"
    }
   ],
   "source": [
    "b = Matrix([-1, 3, 2, 1]).reshape(4, 1)\n",
    "Q.T * b"
   ]
  },
  {
   "cell_type": "code",
   "execution_count": 16,
   "metadata": {},
   "outputs": [
    {
     "data": {
      "text/latex": [
       "$\\displaystyle \\left\\{\\left( \\frac{5}{6}, \\  - \\frac{1}{2}\\right)\\right\\}$"
      ],
      "text/plain": [
       "{(5/6, -1/2)}"
      ]
     },
     "execution_count": 16,
     "metadata": {},
     "output_type": "execute_result"
    }
   ],
   "source": [
    "A = Matrix([[2, 4], [0, -1], [2, -1], [1, 3]])\n",
    "b = Matrix([-1, 3, 2, 1]).reshape(4, 1)\n",
    "x, y= symbols('x, y')\n",
    "linsolve((A.T * A, A.T * b), [x, y])"
   ]
  },
  {
   "cell_type": "code",
   "execution_count": 22,
   "metadata": {},
   "outputs": [
    {
     "name": "stdout",
     "output_type": "stream",
     "text": [
      "\\left[\\begin{matrix}1\\\\- \\frac{3 \\sqrt{2}}{2}\\\\- \\frac{2 \\sqrt{3}}{3}\\\\\\frac{7 \\sqrt{6}}{6}\\end{matrix}\\right]\n"
     ]
    }
   ],
   "source": [
    "print(latex(Q.T * b))"
   ]
  },
  {
   "cell_type": "code",
   "execution_count": 26,
   "metadata": {},
   "outputs": [
    {
     "data": {
      "text/latex": [
       "$\\displaystyle \\frac{n \\left(6 m^{2} - 6 m n + 6 m + 2 n^{2} - 3 n + 1\\right)}{3}$"
      ],
      "text/plain": [
       "n*(6*m**2 - 6*m*n + 6*m + 2*n**2 - 3*n + 1)/3"
      ]
     },
     "execution_count": 26,
     "metadata": {},
     "output_type": "execute_result"
    }
   ],
   "source": [
    "m,n=symbols('m, n')\n",
    "f = Rational(1,3)*(m*(m+1)*(2*m+1) - (m-n)*(m-n+1)*(2*m-2*n+1))\n",
    "simplify(f)"
   ]
  },
  {
   "cell_type": "code",
   "execution_count": 6,
   "metadata": {},
   "outputs": [
    {
     "data": {
      "text/plain": [
       "int"
      ]
     },
     "execution_count": 6,
     "metadata": {},
     "output_type": "execute_result"
    }
   ],
   "source": [
    "import sympy as sp\n",
    "n = sp.sympify(('1+2**2'))\n",
    "m = eval('1+2**2')\n",
    "type(m)"
   ]
  },
  {
   "cell_type": "code",
   "execution_count": 9,
   "metadata": {},
   "outputs": [
    {
     "data": {
      "text/plain": [
       "sympy.core.numbers.Integer"
      ]
     },
     "execution_count": 9,
     "metadata": {},
     "output_type": "execute_result"
    }
   ],
   "source": [
    "type(n)\n",
    "type(m+n)"
   ]
  },
  {
   "cell_type": "code",
   "execution_count": 1,
   "metadata": {},
   "outputs": [
    {
     "name": "stdout",
     "output_type": "stream",
     "text": [
      "False\n"
     ]
    }
   ],
   "source": [
    "import matplotlib\n",
    "print(matplotlib.rcParams['text.usetex'])"
   ]
  }
 ],
 "metadata": {
  "interpreter": {
   "hash": "83dcda9c6f21f72eb91322f25bd90dcfc44fcd27b2ed6d45c45385eb1dc16ae7"
  },
  "kernelspec": {
   "display_name": "Python 3.10.4 64-bit",
   "language": "python",
   "name": "python3"
  },
  "language_info": {
   "codemirror_mode": {
    "name": "ipython",
    "version": 3
   },
   "file_extension": ".py",
   "mimetype": "text/x-python",
   "name": "python",
   "nbconvert_exporter": "python",
   "pygments_lexer": "ipython3",
   "version": "3.10.4"
  },
  "orig_nbformat": 4
 },
 "nbformat": 4,
 "nbformat_minor": 2
}
