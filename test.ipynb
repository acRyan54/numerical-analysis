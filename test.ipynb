{
 "cells": [
  {
   "cell_type": "code",
   "execution_count": 7,
   "metadata": {},
   "outputs": [
    {
     "data": {
      "text/latex": [
       "$\\displaystyle - \\frac{4 h^{5}}{15}$"
      ],
      "text/plain": [
       "-4*h**5/15"
      ]
     },
     "execution_count": 7,
     "metadata": {},
     "output_type": "execute_result"
    }
   ],
   "source": [
    "from sympy import *\n",
    "t, k, h = symbols('t k h')\n",
    "simplify(integrate(t*(t-h)*(t-2*h)*(t-k), (t, 0, 2 * h)))"
   ]
  },
  {
   "cell_type": "markdown",
   "metadata": {},
   "source": [
    "$$\\int_{-h}^{h} (t+h)t(t-h)(t-k) d t$$"
   ]
  },
  {
   "cell_type": "code",
   "execution_count": 23,
   "metadata": {},
   "outputs": [
    {
     "data": {
      "text/latex": [
       "$\\displaystyle 1.71381527977109$"
      ],
      "text/plain": [
       "1.71381527977109"
      ]
     },
     "execution_count": 23,
     "metadata": {},
     "output_type": "execute_result"
    }
   ],
   "source": [
    "N(1/4 * (E**(1/8) + E**(3/8) + E**(5/8) + E**(7/8)))"
   ]
  },
  {
   "cell_type": "code",
   "execution_count": 32,
   "metadata": {},
   "outputs": [
    {
     "data": {
      "text/latex": [
       "$\\displaystyle 2.0 t + 3.0$"
      ],
      "text/plain": [
       "2.0*t + 3.0"
      ]
     },
     "execution_count": 32,
     "metadata": {},
     "output_type": "execute_result"
    }
   ],
   "source": [
    "from sympy import *\n",
    "x, t = symbols('x t')\n",
    "expr = 2 * x + 1\n",
    "expr.evalf(subs = {x : t + 1})"
   ]
  },
  {
   "cell_type": "code",
   "execution_count": 36,
   "metadata": {},
   "outputs": [
    {
     "data": {
      "text/latex": [
       "$\\displaystyle 1.54786564022464$"
      ],
      "text/plain": [
       "1.54786564022464"
      ]
     },
     "execution_count": 36,
     "metadata": {},
     "output_type": "execute_result"
    }
   ],
   "source": [
    "from sympy import *\n",
    "x = symbols('x')\n",
    "\n",
    "\n",
    "def Simpson(f, a, b, m):\n",
    "    i = symbols('i')\n",
    "    m //= 2\n",
    "    h = (b - a) / (2 * m)\n",
    "    return N(h/3 * (\n",
    "        f.evalf(subs = {x : a}) +\n",
    "        f.evalf(subs = {x : b}) +\n",
    "        4 * Sum(f.evalf(subs = {x : a + (2 * i - 1) * (b - a) / (2 * m)}), (i, 1, m)).doit() +\n",
    "        2 * Sum(f.evalf(subs = {x : a + (2 * i) * (b - a) / (2 * m)}), (i, 1, m - 1)).doit()    ))\n",
    "\n",
    "def LineLength(f, a, b, m):\n",
    "    return Simpson((1 + diff(f, x)**2)**0.5, a, b, m)\n",
    "\n",
    "LineLength(x**3, 0, 1, 32)"
   ]
  },
  {
   "cell_type": "code",
   "execution_count": 38,
   "metadata": {},
   "outputs": [
    {
     "data": {
      "text/latex": [
       "$\\displaystyle 1.54786565468361$"
      ],
      "text/plain": [
       "1.54786565468361"
      ]
     },
     "execution_count": 38,
     "metadata": {},
     "output_type": "execute_result"
    }
   ],
   "source": [
    "N(integrate((1 + 9*x**4)**0.5, (x, 0, 1)))"
   ]
  },
  {
   "cell_type": "code",
   "execution_count": 7,
   "metadata": {},
   "outputs": [
    {
     "name": "stdout",
     "output_type": "stream",
     "text": [
      "1.54786564022464\n"
     ]
    }
   ],
   "source": [
    "from sympy import *\n",
    "import re\n",
    "x = symbols('x')\n",
    "\n",
    "\n",
    "def Simpson(f, a, b, m):\n",
    "    i = symbols('i')\n",
    "    m //= 2\n",
    "    h = (b - a) / (2 * m)\n",
    "    return N(h/3 * (\n",
    "        f.evalf(subs = {x : a}) +\n",
    "        f.evalf(subs = {x : b}) +\n",
    "        4 * Sum(f.evalf(subs = {x : a + (2 * i - 1) * (b - a) / (2 * m)}), (i, 1, m)).doit() +\n",
    "        2 * Sum(f.evalf(subs = {x : a + (2 * i) * (b - a) / (2 * m)}), (i, 1, m - 1)).doit()    ))\n",
    "\n",
    "def LineLength(f, a, b, m):\n",
    "    return Simpson((1 + diff(f, x)**2)**0.5, a, b, m)\n",
    "\n",
    "\n",
    "print(LineLength(x**3, 0, 1, 32))"
   ]
  },
  {
   "cell_type": "code",
   "execution_count": 13,
   "metadata": {},
   "outputs": [
    {
     "data": {
      "text/plain": [
       "array([0., 0., 0., 0., 0.])"
      ]
     },
     "execution_count": 13,
     "metadata": {},
     "output_type": "execute_result"
    }
   ],
   "source": [
    "import sympy as sp\n",
    "import numpy as np\n",
    "x = sp.symbols('x')\n",
    "\n",
    "np.zeros(5)"
   ]
  },
  {
   "cell_type": "code",
   "execution_count": 29,
   "metadata": {},
   "outputs": [
    {
     "name": "stdout",
     "output_type": "stream",
     "text": [
      "[[0.34657359027997 0.               0.               0.              ]\n",
      " [0.37601934919407 0.38583460216543 0.               0.              ]\n",
      " [0.38369950940944 0.38625956281457 0.38628789352451 0.              ]\n",
      " [0.3856439099521  0.38629204346631 0.3862942088431  0.38629430908625]]\n"
     ]
    }
   ],
   "source": [
    "import sympy as sp\n",
    "import numpy as np\n",
    "import re\n",
    "x = sp.symbols('x')\n",
    "\n",
    "\n",
    "def romberg(expr, a, b, n):\n",
    "    np.set_printoptions(precision = 14)\n",
    "    h = (b - a) / 2**(np.arange(0, n))\n",
    "    r = np.zeros((n, n))\n",
    "    r[0][0] = h[0] / 2 * (expr.subs(x, a) + expr.subs(x, b))\n",
    "    for j in range(1, n):\n",
    "        i = sp.symbols('i')\n",
    "        r[j][0] = (1/2 * r[j-1][0] + h[j] *\n",
    "                   sp.Sum(expr.subs(x, a + (2 * i - 1) * h[j]), (i, 1, 2**(j - 1))).doit())\n",
    "        for k in range(1, j + 1):\n",
    "            r[j][k] = (4**k * r[j][k-1] - r[j-1][k-1]) / (4**k - 1)\n",
    "    return r\n",
    "print(romberg(log(x), 1, 2, 4))"
   ]
  },
  {
   "cell_type": "code",
   "execution_count": 31,
   "metadata": {},
   "outputs": [
    {
     "data": {
      "text/latex": [
       "$\\displaystyle 0.346573590279973$"
      ],
      "text/plain": [
       "0.346573590279973"
      ]
     },
     "execution_count": 31,
     "metadata": {},
     "output_type": "execute_result"
    }
   ],
   "source": [
    "N(1/2 * log(2))"
   ]
  }
 ],
 "metadata": {
  "interpreter": {
   "hash": "83dcda9c6f21f72eb91322f25bd90dcfc44fcd27b2ed6d45c45385eb1dc16ae7"
  },
  "kernelspec": {
   "display_name": "Python 3.10.4 64-bit",
   "language": "python",
   "name": "python3"
  },
  "language_info": {
   "codemirror_mode": {
    "name": "ipython",
    "version": 3
   },
   "file_extension": ".py",
   "mimetype": "text/x-python",
   "name": "python",
   "nbconvert_exporter": "python",
   "pygments_lexer": "ipython3",
   "version": "3.10.4"
  },
  "orig_nbformat": 4
 },
 "nbformat": 4,
 "nbformat_minor": 2
}
