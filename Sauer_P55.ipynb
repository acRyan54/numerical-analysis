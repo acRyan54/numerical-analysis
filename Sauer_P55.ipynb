{
 "cells": [
  {
   "cell_type": "code",
   "execution_count": 18,
   "metadata": {},
   "outputs": [
    {
     "name": "stdout",
     "output_type": "stream",
     "text": [
      "(-r + x)**m*g(x)\n"
     ]
    },
    {
     "data": {
      "text/latex": [
       "$\\displaystyle \\frac{\\frac{d}{d x} g{\\left(x \\right)}}{m g{\\left(x \\right)} - r \\frac{d}{d x} g{\\left(x \\right)} + x \\frac{d}{d x} g{\\left(x \\right)}}$"
      ],
      "text/plain": [
       "Derivative(g(x), x)/(m*g(x) - r*Derivative(g(x), x) + x*Derivative(g(x), x))"
      ]
     },
     "execution_count": 18,
     "metadata": {},
     "output_type": "execute_result"
    }
   ],
   "source": [
    "# p55\n",
    "from sympy import *\n",
    "x, r, c, m = symbols('x r c m')\n",
    "g = symbols('g', cls = Function)\n",
    "f = g(x) * (x - r)**m\n",
    "print(f)\n",
    "e_i0 = x - r\n",
    "e_i1 = x - (m*f)/diff(f, x) - r\n",
    "ans = e_i1/(e_i0 ** 2)\n",
    "factor(simplify(ans))"
   ]
  }
 ],
 "metadata": {
  "interpreter": {
   "hash": "83dcda9c6f21f72eb91322f25bd90dcfc44fcd27b2ed6d45c45385eb1dc16ae7"
  },
  "kernelspec": {
   "display_name": "Python 3.10.2 64-bit",
   "language": "python",
   "name": "python3"
  },
  "language_info": {
   "codemirror_mode": {
    "name": "ipython",
    "version": 3
   },
   "file_extension": ".py",
   "mimetype": "text/x-python",
   "name": "python",
   "nbconvert_exporter": "python",
   "pygments_lexer": "ipython3",
   "version": "3.10.2"
  },
  "orig_nbformat": 4
 },
 "nbformat": 4,
 "nbformat_minor": 2
}
